{
 "cells": [
  {
   "cell_type": "code",
   "execution_count": 1,
   "id": "cd2f3497",
   "metadata": {},
   "outputs": [
    {
     "name": "stdout",
     "output_type": "stream",
     "text": [
      "Data =  [[ 4.96254205 13.4201161   9.85153535 11.48870844]]\n",
      "Normalized Data =  [[0.23827292 0.64435731 0.47301445 0.55162215]]\n"
     ]
    }
   ],
   "source": [
    "from sklearn import preprocessing\n",
    "import numpy as np\n",
    "\n",
    "a = np.random.random((1, 4))\n",
    "a = a*20\n",
    "print(\"Data = \", a)\n",
    "\n",
    "# normalize the data attributes\n",
    "normalized = preprocessing.normalize(a)\n",
    "print(\"Normalized Data = \", normalized)"
   ]
  },
  {
   "cell_type": "code",
   "execution_count": null,
   "id": "6cdbff5f",
   "metadata": {},
   "outputs": [],
   "source": []
  }
 ],
 "metadata": {
  "kernelspec": {
   "display_name": "Python 3 (ipykernel)",
   "language": "python",
   "name": "python3"
  },
  "language_info": {
   "codemirror_mode": {
    "name": "ipython",
    "version": 3
   },
   "file_extension": ".py",
   "mimetype": "text/x-python",
   "name": "python",
   "nbconvert_exporter": "python",
   "pygments_lexer": "ipython3",
   "version": "3.9.7"
  }
 },
 "nbformat": 4,
 "nbformat_minor": 5
}
